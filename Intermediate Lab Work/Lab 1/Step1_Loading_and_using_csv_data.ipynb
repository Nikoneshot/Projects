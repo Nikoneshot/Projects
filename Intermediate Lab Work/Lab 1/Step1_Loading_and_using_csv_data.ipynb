{
 "cells": [
  {
   "cell_type": "markdown",
   "metadata": {},
   "source": [
    "# Step1: Loading and using csv data\n",
    "We will use the numpy library. The cell below the code is the syntax for loading. 'as np' means we can access functions of the library with the reference 'np'\n"
   ]
  },
  {
   "cell_type": "code",
   "execution_count": 1,
   "metadata": {},
   "outputs": [],
   "source": [
    "import numpy as np"
   ]
  },
  {
   "cell_type": "markdown",
   "metadata": {},
   "source": [
    "In the cell below is an example of the syntax to use numpy's (np) loadtxt function. We pass it the name of our data file which we saved as csv format (comma seperated file). We tell it the delimiter is a comma ','\n",
    "A the delimiter is the symbol that separates the columns of the file.\n",
    "Also we tell it to skip the first two rows of the file (skiprows =2).\n",
    "You can think of the data_file object as a matrix.  The first column is the voltage data, the second column is the error estimate on the voltage reading, the third column is the current data, and the fourth column is the error estimate on the current reading"
   ]
  },
  {
   "cell_type": "code",
   "execution_count": 11,
   "metadata": {},
   "outputs": [],
   "source": [
    "data_file = np.loadtxt(\"test_data_lab01.csv\",delimiter=',',skiprows=2)"
   ]
  },
  {
   "cell_type": "markdown",
   "metadata": {},
   "source": [
    "The next cell we declare a variable v and set it equal to the first column of the data_file.  The colon ':' tells pyton we want all rows\n",
    "The '0' tells python we want the first column (in programming indexes usually start at 0). So the first column has index 0, the second column has index 1 and so on "
   ]
  },
  {
   "cell_type": "code",
   "execution_count": 3,
   "metadata": {},
   "outputs": [],
   "source": [
    "v = data_file[:,0]"
   ]
  },
  {
   "cell_type": "markdown",
   "metadata": {},
   "source": [
    "Next do the same to get the error on v. Declare a variable dv which is the second column of the file (second column has index 1) "
   ]
  },
  {
   "cell_type": "code",
   "execution_count": 4,
   "metadata": {},
   "outputs": [],
   "source": [
    "dv = data_file[:,1]"
   ]
  },
  {
   "cell_type": "markdown",
   "metadata": {},
   "source": [
    "Do the same for the current (i) and error on the current (di), which are columns 2 and 3 respectively. Note in the file, the units of current are in milli amps, so we multiply  by 0.001 to convert to amps."
   ]
  },
  {
   "cell_type": "code",
   "execution_count": 5,
   "metadata": {},
   "outputs": [],
   "source": [
    "i = 0.001*data_file[:,2]"
   ]
  },
  {
   "cell_type": "code",
   "execution_count": 6,
   "metadata": {},
   "outputs": [],
   "source": [
    "di = 0.001*data_file[:,3]"
   ]
  },
  {
   "cell_type": "markdown",
   "metadata": {},
   "source": [
    "In the next cell we write a function to calculate the resistance and error for each data point. This function has 4 paparmeters: voltage, error on voltage (dvoltage), current and error on current (dcurrent)"
   ]
  },
  {
   "cell_type": "code",
   "execution_count": 7,
   "metadata": {},
   "outputs": [],
   "source": [
    "def get_resistance_and_error(v,dv,i,di):\n",
    "    #just Ohm's law\n",
    "    resistance = v/i \n",
    "    #Use chain rule from calculus to calculate error\n",
    "    error = np.sqrt(pow(dv/i,2) + pow(v*di/(i*i),2))\n",
    "    return resistance, error"
   ]
  },
  {
   "cell_type": "markdown",
   "metadata": {},
   "source": [
    "Next write a loop to calculate the resistance and error from each data point. Note there are more sophisicated ways of doing this in python but this example is hopefully more accessible to beginners"
   ]
  },
  {
   "cell_type": "code",
   "execution_count": 8,
   "metadata": {},
   "outputs": [],
   "source": [
    "#initialise empty array to hold resistance values, \n",
    "#len(v) just gives the l\n",
    "r =np.empty(len(v))\n",
    "\n",
    "#initialise empty array to hold resistance uncertainty values\n",
    "dr = np.empty(len(v))\n",
    "for j in range(0, len(v)):\n",
    "    r[j],dr[j]= get_resistance_and_error(v[j],dv[j],i[j],di[j])\n"
   ]
  },
  {
   "cell_type": "markdown",
   "metadata": {},
   "source": [
    "The next cell we print out the results"
   ]
  },
  {
   "cell_type": "code",
   "execution_count": 9,
   "metadata": {},
   "outputs": [
    {
     "name": "stdout",
     "output_type": "stream",
     "text": [
      "V(V)\t dV(V)\t I(mA)\tdI(mA)\t R(Ohm)\t dR(Ohm)\n",
      "2.00\t0.10\t9.10\t0.30\t220\t13\n",
      "3.00\t0.15\t13.20\t0.50\t227\t14\n",
      "4.00\t0.20\t18.00\t0.60\t222\t13\n",
      "5.00\t0.25\t23.10\t0.80\t216\t13\n",
      "6.00\t0.30\t26.70\t0.90\t225\t14\n",
      "7.00\t0.35\t31.00\t1.10\t226\t14\n",
      "8.00\t0.40\t37.10\t1.30\t216\t13\n",
      "9.00\t0.45\t42.10\t1.50\t214\t13\n",
      "10.00\t0.50\t43.80\t1.50\t228\t14\n"
     ]
    }
   ],
   "source": [
    "print(\"V(V)\\t dV(V)\\t I(mA)\\tdI(mA)\\t R(Ohm)\\t dR(Ohm)\")\n",
    "for j in range(0, len(v)):\n",
    "    print(\"%.2f\\t%.2f\\t%.2f\\t%.2f\\t%1.0f\\t%1.0f\"\n",
    "          %(v[j],dv[j],1000*i[j],1000*di[j],r[j],dr[j]))"
   ]
  },
  {
   "cell_type": "code",
   "execution_count": null,
   "metadata": {},
   "outputs": [],
   "source": []
  }
 ],
 "metadata": {
  "kernelspec": {
   "display_name": "Python 3",
   "language": "python",
   "name": "python3"
  },
  "language_info": {
   "codemirror_mode": {
    "name": "ipython",
    "version": 3
   },
   "file_extension": ".py",
   "mimetype": "text/x-python",
   "name": "python",
   "nbconvert_exporter": "python",
   "pygments_lexer": "ipython3",
   "version": "3.8.5"
  }
 },
 "nbformat": 4,
 "nbformat_minor": 2
}
