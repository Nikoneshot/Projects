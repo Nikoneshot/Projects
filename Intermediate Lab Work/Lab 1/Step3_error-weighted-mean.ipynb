{
 "cells": [
  {
   "cell_type": "markdown",
   "metadata": {},
   "source": [
    "# Step 3 error-weighted mean"
   ]
  },
  {
   "cell_type": "markdown",
   "metadata": {},
   "source": [
    "Start with the first script you have, everything stays the same, except we add the\n",
    "code to do the error-weighted mean. So you can skip down to cell 5"
   ]
  },
  {
   "cell_type": "code",
   "execution_count": 1,
   "metadata": {},
   "outputs": [],
   "source": [
    "import numpy as np"
   ]
  },
  {
   "cell_type": "code",
   "execution_count": 2,
   "metadata": {},
   "outputs": [],
   "source": [
    "data_file = np.loadtxt(\"test_data_lab01.csv\",delimiter=',',skiprows=2)\n",
    "v = data_file[:,0]\n",
    "dv = data_file[:,1]\n",
    "i = 0.001*data_file[:,2] \n",
    "di = 0.001*data_file[:,3]\n"
   ]
  },
  {
   "cell_type": "code",
   "execution_count": 3,
   "metadata": {},
   "outputs": [],
   "source": [
    "def get_resistance_and_error(v,dv,i,di):\n",
    "    #just Ohm's law\n",
    "    resistance = v/i \n",
    "    #Use chain rule from calculus to calculate error\n",
    "    error = np.sqrt(pow(dv/i,2) + pow(v*di/(i*i),2))\n",
    "    return resistance, error"
   ]
  },
  {
   "cell_type": "code",
   "execution_count": 4,
   "metadata": {},
   "outputs": [],
   "source": [
    "r =np.empty(len(v))\n",
    "#initialise empty array to hold resistance uncertainty values\n",
    "dr = np.empty(len(v))\n",
    "for j in range(0, len(v)):\n",
    "    r[j],dr[j]= get_resistance_and_error(v[j],dv[j],i[j],di[j])\n"
   ]
  },
  {
   "cell_type": "markdown",
   "metadata": {},
   "source": [
    "In the cell below we do the error-weighted mean and print out the results"
   ]
  },
  {
   "cell_type": "code",
   "execution_count": 5,
   "metadata": {},
   "outputs": [
    {
     "name": "stdout",
     "output_type": "stream",
     "text": [
      "Weighted mean resistance = 221.3 Ohm\n",
      "Standard error  = 4.5 Ohm\n"
     ]
    }
   ],
   "source": [
    "error_weighted_sum =0\n",
    "error_weights=0    \n",
    "\n",
    "#Do the sums\n",
    "for j in range(0, len(v)):\n",
    "    error_weighted_sum += r[j]/pow(dr[j],2)    \n",
    "    error_weights += 1/pow(dr[j],2)\n",
    "    \n",
    "#Next calculate finalize the average weighting     \n",
    "mean_resistance = error_weighted_sum/error_weights\n",
    "mean_resistance_error = 1/np.sqrt(error_weights)\n",
    "\n",
    "print(\"Weighted mean resistance = %.1f Ohm\"%mean_resistance)\n",
    "print(\"Standard error  = %.1f Ohm\" %mean_resistance_error)"
   ]
  },
  {
   "cell_type": "markdown",
   "metadata": {},
   "source": [
    "In a report you should quote the uncertainty to 1 significant figure so: 4.5 Ohms ---> 5 Ohms\n",
    "Then you should quote the best estimate with matching precision. So it becomes 221 +/- 5 Ohms"
   ]
  },
  {
   "cell_type": "code",
   "execution_count": null,
   "metadata": {},
   "outputs": [],
   "source": []
  }
 ],
 "metadata": {
  "kernelspec": {
   "display_name": "Python 3 (ipykernel)",
   "language": "python",
   "name": "python3"
  },
  "language_info": {
   "codemirror_mode": {
    "name": "ipython",
    "version": 3
   },
   "file_extension": ".py",
   "mimetype": "text/x-python",
   "name": "python",
   "nbconvert_exporter": "python",
   "pygments_lexer": "ipython3",
   "version": "3.9.13"
  }
 },
 "nbformat": 4,
 "nbformat_minor": 2
}
